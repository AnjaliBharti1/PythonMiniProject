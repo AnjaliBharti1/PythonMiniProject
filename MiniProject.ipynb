{
  "nbformat": 4,
  "nbformat_minor": 0,
  "metadata": {
    "colab": {
      "provenance": []
    },
    "kernelspec": {
      "name": "python3",
      "display_name": "Python 3"
    },
    "language_info": {
      "name": "python"
    }
  },
  "cells": [
    {
      "cell_type": "code",
      "execution_count": null,
      "metadata": {
        "id": "_LYDd6EDS9M4"
      },
      "outputs": [],
      "source": []
    },
    {
      "cell_type": "markdown",
      "source": [
        "### Problem 1:\n",
        "\n",
        "1. Write a program to calculate area of shapes. Your program should be capable of calculating the area of a square, rectangle, triangle and a circle. The user should be presented with options to select the shape. Based on which shape is chosed by the user, the program should ask for the appropriate input and print the resulting area on the screen.\n",
        "\n",
        "When the program is run, the screen should display something like this:\n",
        "\n",
        "**Which shape would you like to calculate the area for? Please enter the option number-**<br>\n",
        "**1. Square**<br>\n",
        "**2. Rectangle**<br>\n",
        "**3. Triangle**<br>\n",
        "**4. Circle**<br>\n",
        "**Enter Option: _**\n",
        "\n",
        "Say the user enters the option 1.\n",
        "\n",
        "**Please enter the length of a side: _**\n",
        "\n",
        "If the user enters a value of 5. The output should be:\n",
        "\n",
        "**The area of the square is 25**\n",
        "\n",
        "This program should indicate that the input is invalid if the user enters a character instead of a number as input. For instance if the user enters a value of ‘a’ instead of 5 in the previous example the program should prompt:\n",
        "\n",
        "**Invalid input, please enter a number: _**\n"
      ],
      "metadata": {
        "id": "36IiD3aATDpr"
      }
    },
    {
      "cell_type": "code",
      "source": [
        "import math\n",
        "\n",
        "def calculate_square_area(side):\n",
        "    return side ** 2\n",
        "\n",
        "def calculate_rectangle_area(length, width):\n",
        "    return length * width\n",
        "\n",
        "def calculate_triangle_area(base, height):\n",
        "    return 0.5 * base * height\n",
        "\n",
        "def calculate_circle_area(radius):\n",
        "    return math.pi * (radius ** 2)\n",
        "\n",
        "def main():\n",
        "    print(\"Which shape would you like to calculate the area for? Please enter the option number-\")\n",
        "    print(\"1. Square\")\n",
        "    print(\"2. Rectangle\")\n",
        "    print(\"3. Triangle\")\n",
        "    print(\"4. Circle\")\n",
        "\n",
        "    Name = input(\"Enter Option: \")\n",
        "\n",
        "    if Name == 'Square':\n",
        "        try:\n",
        "            side = float(input(\"Please enter the length of a side: \"))\n",
        "            area = calculate_square_area(side)\n",
        "            print(\"The area of the square is:\", area)\n",
        "        except ValueError:\n",
        "            print(\"Invalid input, please enter a number.\")\n",
        "    elif Name == 'Rectangle':\n",
        "        try:\n",
        "            length = float(input(\"Please enter the length of the rectangle: \"))\n",
        "            width = float(input(\"Please enter the width of the rectangle: \"))\n",
        "            area = calculate_rectangle_area(length, width)\n",
        "            print(\"The area of the rectangle is:\", area)\n",
        "        except ValueError:\n",
        "            print(\"Invalid input, please enter a number.\")\n",
        "    elif Name == 'Triangle':\n",
        "        try:\n",
        "            base = float(input(\"Please enter the base length of the triangle: \"))\n",
        "            height = float(input(\"Please enter the height of the triangle: \"))\n",
        "            area = calculate_triangle_area(base, height)\n",
        "            print(\"The area of the triangle is:\", area)\n",
        "        except ValueError:\n",
        "            print(\"Invalid input, please enter a number.\")\n",
        "    elif Name == 'Circle':\n",
        "        try:\n",
        "            radius = float(input(\"Please enter the radius of the circle: \"))\n",
        "            area = calculate_circle_area(radius)\n",
        "            print(\"The area of the circle is:\", area)\n",
        "        except ValueError:\n",
        "            print(\"Invalid input, please enter a number.\")\n",
        "    else:\n",
        "        print(\"Invalid choice. Please enter a number between 1 and 4.\")\n",
        "\n",
        "if __name__ == \"__main__\":\n",
        "    main()\n"
      ],
      "metadata": {
        "colab": {
          "base_uri": "https://localhost:8080/"
        },
        "id": "AtfHiSuUWBYS",
        "outputId": "e805e4fe-9de1-47ce-d817-da2c69ad0b22"
      },
      "execution_count": 25,
      "outputs": [
        {
          "output_type": "stream",
          "name": "stdout",
          "text": [
            "Which shape would you like to calculate the area for? Please enter the option number-\n",
            "1. Square\n",
            "2. Rectangle\n",
            "3. Triangle\n",
            "4. Circle\n",
            "Enter Option: Square\n",
            "Please enter the length of a side: 6\n",
            "The area of the square is: 36.0\n"
          ]
        }
      ]
    }
  ]
}